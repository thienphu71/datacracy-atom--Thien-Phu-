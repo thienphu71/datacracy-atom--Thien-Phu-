{
  "nbformat": 4,
  "nbformat_minor": 0,
  "metadata": {
    "colab": {
      "name": "ATOM - Home Assignment#1 - Thiên Phú",
      "provenance": [],
      "authorship_tag": "ABX9TyOzCH0E5Rw/dU8ngsn3Vzw1",
      "include_colab_link": true
    },
    "kernelspec": {
      "name": "python3",
      "display_name": "Python 3"
    },
    "language_info": {
      "name": "python"
    }
  },
  "cells": [
    {
      "cell_type": "markdown",
      "metadata": {
        "id": "view-in-github",
        "colab_type": "text"
      },
      "source": [
        "<a href=\"https://colab.research.google.com/github/thienphu71/datacracy-atom--Thien-Phu-/blob/main/ATOM_Home_Assignment_1_Thi%C3%AAn_Ph%C3%BA.ipynb\" target=\"_parent\"><img src=\"https://colab.research.google.com/assets/colab-badge.svg\" alt=\"Open In Colab\"/></a>"
      ]
    },
    {
      "cell_type": "markdown",
      "metadata": {
        "id": "ABP5sWauqzuh"
      },
      "source": [
        "# Python Basic - Your First Program \n"
      ]
    },
    {
      "cell_type": "code",
      "metadata": {
        "colab": {
          "base_uri": "https://localhost:8080/"
        },
        "id": "3H4XR7XCoLQl",
        "outputId": "936ee97f-4745-4a2b-fbb4-8d94b9626460"
      },
      "source": [
        "# Python Basic - Your First Program \n",
        "print(\"Hello, world!\")\n",
        "print(\"What is your name?\")\n",
        "myName = input()\n",
        "print('It is good to meet you,' + myName)\n",
        "print('The length of your name is:')\n",
        "print(len(myName))\n",
        "print('What is your age?')\n",
        "myAge = input()\n",
        "print('You will be '+ str(int(myAge)+1) + ' in a year.')"
      ],
      "execution_count": null,
      "outputs": [
        {
          "output_type": "stream",
          "text": [
            "Hello, world!\n",
            "What is your name?\n",
            "Phu\n",
            "It is good to meet you,Phu\n",
            "The length of your name is:\n",
            "3\n",
            "What is your age?\n",
            "28\n",
            "You will be 29 in a year.\n"
          ],
          "name": "stdout"
        }
      ]
    },
    {
      "cell_type": "markdown",
      "metadata": {
        "id": "1eDtMFdlq8PZ"
      },
      "source": [
        "# Flow Control - A Short Program: Rock, Paper, Scissors"
      ]
    },
    {
      "cell_type": "code",
      "metadata": {
        "colab": {
          "base_uri": "https://localhost:8080/"
        },
        "id": "iH97VjCuvt1k",
        "outputId": "f9937ea6-3151-4945-ed28-209677303333"
      },
      "source": [
        "import random, sys\n",
        "print ('ROCK, PAPER, SCISSORS')\n",
        "#There variables keep track of the number of wins, losses, and ties\n",
        "wins = 0 \n",
        "losses = 0 \n",
        "ties = 0\n",
        "\n",
        "while True: # The main game loop\n",
        "  print('%s Wins, %s Losses, %s Ties' % (wins, losses, ties))\n",
        "  while True:\n",
        "    print('Enter your move: (r)ock (p)aper (s)cissors or (q)uit')\n",
        "    playerMove = input()\n",
        "    if playerMove == 'q':\n",
        "      sys.exit()\n",
        "    if playerMove == 'r' or  playerMove == 'p' or playerMove == 's':\n",
        "       break\n",
        "    print('Type one of r, p, s or q.')\n",
        "     # Display what the player chose\n",
        "  if playerMove == 'r':\n",
        "       print('ROCK versus ...')\n",
        "  elif playerMove == 'p':\n",
        "       print('PAPER versus ...')\n",
        "  elif playerMove == 's':\n",
        "       print('SCISSOR verus ...')\n",
        "\n",
        "    # Display what the computer chose \n",
        "  randomNumber = random.randint(1,3)\n",
        "  if randomNumber == 1:\n",
        "       computerMove = 'r'\n",
        "       print('ROCK')\n",
        "  elif randomNumber == 2:\n",
        "       computerMove = 'p'\n",
        "       print('PAPER')\n",
        "  elif randomNumber == 3:\n",
        "       computerMove = 's'\n",
        "       print('SCISSOR')\n",
        "     # Display and record the win/loss/tie:\n",
        "  if playerMove == computerMove:\n",
        "      print('It is a tie!')\n",
        "      ties = ties+1\n",
        "  elif playerMove == 'r' and computerMove == 's':\n",
        "      print('You win!')\n",
        "      wins = wins+1\n",
        "  elif playerMove == 'p' and computerMove == 'r':\n",
        "      print('You win!')\n",
        "      wins = wins+1 \n",
        "  elif playerMove == 's' and computerMove == 'p':\n",
        "      print('You win!')\n",
        "      wins = wins+1\n",
        "  elif playerMove == 's' and computerMove == 'r':\n",
        "      print('You lose!')\n",
        "      losses = losses+1\n",
        "  elif playerMove == 'r' and computerMove == 'p':\n",
        "      print('You lose!')\n",
        "      losses = losses+1\n",
        "  elif playerMove == 'p' and computerMove == 's':\n",
        "      print('You lose!')\n",
        "      losses = losses+1"
      ],
      "execution_count": null,
      "outputs": [
        {
          "output_type": "stream",
          "text": [
            "ROCK, PAPER, SCISSORS\n",
            "0 Wins, 0 Losses, 0 Ties\n",
            "Enter your move: (r)ock (p)aper (s)cissors or (q)uit\n",
            "r\n",
            "ROCK versus ...\n",
            "ROCK\n",
            "It is a tie!\n",
            "0 Wins, 0 Losses, 1 Ties\n",
            "Enter your move: (r)ock (p)aper (s)cissors or (q)uit\n",
            "s\n",
            "SCISSOR verus ...\n",
            "ROCK\n",
            "You lose!\n",
            "0 Wins, 1 Losses, 1 Ties\n",
            "Enter your move: (r)ock (p)aper (s)cissors or (q)uit\n",
            "r\n",
            "ROCK versus ...\n",
            "ROCK\n",
            "It is a tie!\n",
            "0 Wins, 1 Losses, 2 Ties\n",
            "Enter your move: (r)ock (p)aper (s)cissors or (q)uit\n",
            "q\n"
          ],
          "name": "stdout"
        },
        {
          "output_type": "error",
          "ename": "SystemExit",
          "evalue": "ignored",
          "traceback": [
            "An exception has occurred, use %tb to see the full traceback.\n",
            "\u001b[0;31mSystemExit\u001b[0m\n"
          ]
        },
        {
          "output_type": "stream",
          "text": [
            "/usr/local/lib/python3.7/dist-packages/IPython/core/interactiveshell.py:2890: UserWarning: To exit: use 'exit', 'quit', or Ctrl-D.\n",
            "  warn(\"To exit: use 'exit', 'quit', or Ctrl-D.\", stacklevel=1)\n"
          ],
          "name": "stderr"
        }
      ]
    },
    {
      "cell_type": "markdown",
      "metadata": {
        "id": "U_I2DryQ70ZT"
      },
      "source": [
        "#Functions - A Short Program: Zigzag"
      ]
    },
    {
      "cell_type": "code",
      "metadata": {
        "colab": {
          "base_uri": "https://localhost:8080/"
        },
        "id": "RQneh-zF76G1",
        "outputId": "4aad4b87-f5aa-42ba-8db6-a6e7fa4a89f2"
      },
      "source": [
        "import time, sys\n",
        "indent = 0 #How many spaces to indent\n",
        "indentIncreasing = True\n",
        "try:\n",
        "  while True:\n",
        "    print(' ' * indent, end='')\n",
        "    print('********')\n",
        "    time.sleep(0.1)\n",
        "\n",
        "    if indentIncreasing:\n",
        "      # Increase the number of space\n",
        "      indent = indent + 1\n",
        "      if indent == 20:\n",
        "        #Change direction:\n",
        "        indentIncreasing = False\n",
        "    else:\n",
        "        indent = indent - 1\n",
        "        if indent == 0: \n",
        "           indentIncreasing = True\n",
        "except KeyboardInterrupt:\n",
        "  sys.exit()\n"
      ],
      "execution_count": null,
      "outputs": [
        {
          "output_type": "stream",
          "text": [
            "********\n",
            " ********\n",
            "  ********\n",
            "   ********\n",
            "    ********\n",
            "     ********\n",
            "      ********\n",
            "       ********\n",
            "        ********\n",
            "         ********\n",
            "          ********\n",
            "           ********\n",
            "            ********\n",
            "             ********\n",
            "              ********\n",
            "               ********\n",
            "                ********\n",
            "                 ********\n",
            "                  ********\n",
            "                   ********\n",
            "                    ********\n",
            "                   ********\n",
            "                  ********\n",
            "                 ********\n",
            "                ********\n",
            "               ********\n",
            "              ********\n",
            "             ********\n",
            "            ********\n",
            "           ********\n",
            "          ********\n",
            "         ********\n",
            "        ********\n",
            "       ********\n",
            "      ********\n",
            "     ********\n",
            "    ********\n",
            "   ********\n",
            "  ********\n",
            " ********\n",
            "********\n",
            " ********\n",
            "  ********\n",
            "   ********\n",
            "    ********\n",
            "     ********\n",
            "      ********\n",
            "       ********\n",
            "        ********\n",
            "         ********\n",
            "          ********\n",
            "           ********\n",
            "            ********\n",
            "             ********\n",
            "              ********\n",
            "               ********\n",
            "                ********\n",
            "                 ********\n",
            "                  ********\n",
            "                   ********\n",
            "                    ********\n",
            "                   ********\n",
            "                  ********\n",
            "                 ********\n",
            "                ********\n",
            "               ********\n",
            "              ********\n",
            "             ********\n",
            "            ********\n",
            "           ********\n",
            "          ********\n",
            "         ********\n",
            "        ********\n",
            "       ********\n",
            "      ********\n",
            "     ********\n",
            "    ********\n",
            "   ********\n",
            "  ********\n",
            " ********\n",
            "********\n",
            " ********\n",
            "  ********\n",
            "   ********\n",
            "    ********\n",
            "     ********\n",
            "      ********\n",
            "       ********\n"
          ],
          "name": "stdout"
        },
        {
          "output_type": "error",
          "ename": "SystemExit",
          "evalue": "ignored",
          "traceback": [
            "An exception has occurred, use %tb to see the full traceback.\n",
            "\u001b[0;31mSystemExit\u001b[0m\n"
          ]
        },
        {
          "output_type": "stream",
          "text": [
            "/usr/local/lib/python3.7/dist-packages/IPython/core/interactiveshell.py:2890: UserWarning: To exit: use 'exit', 'quit', or Ctrl-D.\n",
            "  warn(\"To exit: use 'exit', 'quit', or Ctrl-D.\", stacklevel=1)\n"
          ],
          "name": "stderr"
        }
      ]
    },
    {
      "cell_type": "code",
      "metadata": {
        "id": "6kHyHrXp_AIe"
      },
      "source": [
        ""
      ],
      "execution_count": null,
      "outputs": []
    },
    {
      "cell_type": "markdown",
      "metadata": {
        "id": "rv-K7kAU-9-L"
      },
      "source": [
        "#Lists - A Short Program: Conway’s Game of Life\n"
      ]
    },
    {
      "cell_type": "code",
      "metadata": {
        "colab": {
          "base_uri": "https://localhost:8080/",
          "height": 652
        },
        "id": "08oHmXH4_Dlj",
        "outputId": "c5db0dc8-1963-4e02-e9b4-bf7e45051a5c"
      },
      "source": [
        "# Conway's Game of Life\n",
        "import random, time, copy\n",
        "WIDTH = 60\n",
        "HEIGHT = 20\n",
        "\n",
        "#Create a list of list for the cell\n",
        "nextCells = []\n",
        "for x in range(WIDTH):\n",
        "  column = [] #Create a new column\n",
        "  for y in range(HEIGHT):\n",
        "    if random.randint(0,1) == 0:\n",
        "      column.append('#') # Add a living cell\n",
        "    else:\n",
        "      column.append(' ') # Add a death cell\n",
        "  nextCells.append(column)\n",
        "\n",
        "while True:\n",
        "  print('\\n\\n\\n\\n\\n')\n",
        "  currentCells = copy.deepcopy(nextCells)\n",
        "\n",
        "  #print currentcell on the screen \n",
        "  for y in range(HEIGHT):\n",
        "    for x in range(WIDTH):\n",
        "      print(currentCells[x][y], end='')\n",
        "    print()\n",
        "  #Calculate the next step's cells based on current step's cells:\n",
        "  for x in range(WIDTH):\n",
        "    for y in range(HEIGHT):\n",
        "      # Get neighboring coordinates:\n",
        "      # `% WIDTH` ensures leftCoord is always between 0 and WIDTH - 1\n",
        "      leftCoord = (x - 1) % WIDTH\n",
        "      rightCoord = (x + 1) % WIDTH\n",
        "      aboveCoord = (y - 1) % HEIGHT\n",
        "      belowCoord = (y + 1) % HEIGHT\n",
        "      # Count number of living neighbors:\n",
        "      numNeighbors = 0\n",
        "      if currentCells[leftCoord][aboveCoord] == '#':\n",
        "         numNeighbors += 1 # Top-left neighbor is alive.\n",
        "      if currentCells[x][aboveCoord] == '#':\n",
        "        numNeighbors += 1 # Top neighbor is alive.\n",
        "      if currentCells[rightCoord][aboveCoord] == '#':\n",
        "        numNeighbors += 1 # Top-right neighbor is alive.\n",
        "      if currentCells[leftCoord][y] == '#':\n",
        "        numNeighbors += 1 # Left neighbor is alive.\n",
        "      if currentCells[rightCoord][y] == '#':\n",
        "        numNeighbors += 1 # Right neighbor is alive.\n",
        "      if currentCells[leftCoord][belowCoord] == '#':\n",
        "        numNeighbors += 1 # Bottom-left neighbor is alive.\n",
        "      if currentCells[x][belowCoord] == '#':\n",
        "        numNeighbors += 1 # Bottom neighbor is alive.\n",
        "      if currentCells[rightCoord][belowCoord] == '#':\n",
        "        numNeighbors += 1 # Bottom-right neighbor is alive.\n",
        "      # Set cell based on Conway's Game of Life rules\n",
        "      if currentCells[x][y] == '#' and (numNeighbors == 2 or\n",
        "numNeighbors == 3):\n",
        "          # Living cells with 2 or 3 neighbors stay alive:\n",
        "          nextCells[x][y] = '#'\n",
        "      elif currentCells[x][y] == ' ' and numNeighbors == 3:\n",
        "          # Dead cells with 3 neighbors become alive:\n",
        "          nextCells[x][y] = '#'\n",
        "      else:\n",
        "          # Everything else dies or stays dead:\n",
        "          nextCells[x][y] = ' '\n",
        "          time.sleep(1) # Add a 1-second pause to reduce flickering."
      ],
      "execution_count": null,
      "outputs": [
        {
          "output_type": "stream",
          "text": [
            "\n",
            "\n",
            "\n",
            "\n",
            "\n",
            "\n",
            " #  ##  # ##   # #  ##### #  ##   # #  # ##   ###### #  #   \n",
            " #  #  # ## ##  #  # # # # #    # ## ##     ##  ### # #  #  \n",
            "  #     # #     ## ## ## #    #  # #  ##   ## #  # # ## # ##\n",
            "##   ## #      # ## # ##  # # #     #    #   ## ## ##    ###\n",
            "#### #### # ##      #  # ##### # #  # ## ## # # ###  #    ##\n",
            "   #  ##  ###    # #         # #    # ## # ###    ##  ##  # \n",
            "#  #  # ######### #    #  # #     # ### # ##    ###   #   # \n",
            "  ##  ## ## # ###   ######  # # # # # ##           #####  ##\n",
            "##  # #  ## ### # #  # ###   # # ##     ## ### #   ### ##   \n",
            "     # # # # ## ## ##    ##  #     ##### ## ##  ### ##### ##\n",
            "  ## #  # #     ### # ####   # ## # #  #  # #  #  ####  # # \n",
            "    # ##  ###  ## # #  ## #   ##   ## ###   #  # ### # #  # \n",
            "#  #    ### ##      #       # #  # ####    #### ##  ### #   \n",
            "    #   #  # ###      # ##  ## #    # ### #    ## ## # #   #\n",
            "#   # ### ## # #    # ### # #      #   ###  ##     #  ##   #\n",
            " #   ## ###  #  ##    #  # ##   #  # # # #  # # #   ###  ###\n",
            "#  ###  ## ###   #  # ## # ## #   #    ## ####### # ##   #  \n",
            " # ### # # # ## # # ###### ##  ## # ## # #  ##       # #####\n",
            " #     #  ### ## ###  ## ## ## #### ##   #  # #  ### ## ##  \n",
            "## #  ######## # ## ###### ## # # #### ##  #### #  ##  ## ##\n"
          ],
          "name": "stdout"
        },
        {
          "output_type": "error",
          "ename": "KeyboardInterrupt",
          "evalue": "ignored",
          "traceback": [
            "\u001b[0;31m---------------------------------------------------------------------------\u001b[0m",
            "\u001b[0;31mKeyboardInterrupt\u001b[0m                         Traceback (most recent call last)",
            "\u001b[0;32m<ipython-input-58-494024a0a33a>\u001b[0m in \u001b[0;36m<module>\u001b[0;34m()\u001b[0m\n\u001b[1;32m     62\u001b[0m           \u001b[0;31m# Everything else dies or stays dead:\u001b[0m\u001b[0;34m\u001b[0m\u001b[0;34m\u001b[0m\u001b[0;34m\u001b[0m\u001b[0m\n\u001b[1;32m     63\u001b[0m           \u001b[0mnextCells\u001b[0m\u001b[0;34m[\u001b[0m\u001b[0mx\u001b[0m\u001b[0;34m]\u001b[0m\u001b[0;34m[\u001b[0m\u001b[0my\u001b[0m\u001b[0;34m]\u001b[0m \u001b[0;34m=\u001b[0m \u001b[0;34m' '\u001b[0m\u001b[0;34m\u001b[0m\u001b[0;34m\u001b[0m\u001b[0m\n\u001b[0;32m---> 64\u001b[0;31m           \u001b[0mtime\u001b[0m\u001b[0;34m.\u001b[0m\u001b[0msleep\u001b[0m\u001b[0;34m(\u001b[0m\u001b[0;36m1\u001b[0m\u001b[0;34m)\u001b[0m \u001b[0;31m# Add a 1-second pause to reduce flickering.\u001b[0m\u001b[0;34m\u001b[0m\u001b[0;34m\u001b[0m\u001b[0m\n\u001b[0m",
            "\u001b[0;31mKeyboardInterrupt\u001b[0m: "
          ]
        }
      ]
    },
    {
      "cell_type": "markdown",
      "metadata": {
        "id": "7NlGPpCFCdM5"
      },
      "source": [
        "#Dictionaries & Structuring Data - Tic-Tac-Toe Board"
      ]
    },
    {
      "cell_type": "code",
      "metadata": {
        "colab": {
          "base_uri": "https://localhost:8080/"
        },
        "id": "-cjHEZ6eCf1w",
        "outputId": "7c58c9bd-b20f-4901-ed35-e3b805834917"
      },
      "source": [
        "theBoard = {'top-L': ' ', 'top-M': ' ', 'top-R': ' ', 'mid-L': ' ', 'mid-M':' ', 'mid-R': ' ', 'low-L': ' ', 'low-M': ' ', 'low-R': ' '}\n",
        "\n",
        "def printBoard(board):\n",
        "    print(board['top-L'] + '|' + board['top-M'] + '|' + board['top-R'])\n",
        "    print('-+-+-')\n",
        "    print(board['mid-L'] + '|' + board['mid-M'] + '|' + board['mid-R'])\n",
        "    print('-+-+-')\n",
        "    print(board['low-L'] + '|' + board['low-M'] + '|' + board['low-R'])\n",
        "turn = 'X'\n",
        "for i in range(9):\n",
        "    printBoard(theBoard)\n",
        "    print('Turn for ' + turn + '. Move on which space?')\n",
        "    move = input()\n",
        "    theBoard[move] = turn\n",
        "    if turn == 'X':\n",
        "       turn = 'O'\n",
        "    else:\n",
        "      turn = 'X'\n",
        "printBoard(theBoard)"
      ],
      "execution_count": null,
      "outputs": [
        {
          "output_type": "stream",
          "text": [
            " | | \n",
            "-+-+-\n",
            " | | \n",
            "-+-+-\n",
            " | | \n",
            "Turn for X. Move on which space?\n",
            "top-L\n",
            "X| | \n",
            "-+-+-\n",
            " | | \n",
            "-+-+-\n",
            " | | \n",
            "Turn for O. Move on which space?\n",
            "mid-M\n",
            "X| | \n",
            "-+-+-\n",
            " |O| \n",
            "-+-+-\n",
            " | | \n",
            "Turn for X. Move on which space?\n"
          ],
          "name": "stdout"
        }
      ]
    }
  ]
}